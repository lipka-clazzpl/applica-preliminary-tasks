{
 "cells": [
  {
   "cell_type": "markdown",
   "metadata": {
    "collapsed": true
   },
   "source": [
    "# Loading data into pandas"
   ]
  },
  {
   "cell_type": "code",
   "execution_count": 3,
   "metadata": {},
   "outputs": [],
   "source": [
    "import glob\n",
    "import pandas\n",
    "import os\n",
    "import numpy\n",
    "import re"
   ]
  },
  {
   "cell_type": "markdown",
   "metadata": {},
   "source": [
    "## Combining single data files into one huge import file\n",
    "Stripping of non body elements yield better performance with accuracy at the same level (TF/IDF benefited hugely due to reduced noise)\n",
    "As per Panda docs, there is no penalty to concat multiple DataFrames after creation."
   ]
  },
  {
   "cell_type": "code",
   "execution_count": 4,
   "metadata": {
    "collapsed": true
   },
   "outputs": [],
   "source": [
    "mergedDataFrame = pandas.DataFrame()\n",
    "dataFramesList = []\n",
    "frameIndex = 0\n",
    "trainDatasetDirectory = '/Users/bumblebee/PycharmProjects/ClassifierForWebScraper/train-dataset'\n",
    "for fileName in glob.iglob(trainDatasetDirectory + '**/*.data', recursive=True):\n",
    "    fileHandle = open(fileName, 'r')\n",
    "    lineNo1 = fileHandle.readline()\n",
    "    lineNo2 = fileHandle.readline()\n",
    "    documentLines = fileHandle.read()\n",
    "    bodyStart = documentLines.find('<body>')\n",
    "    bodyEnd = documentLines.find('</body>')\n",
    "    result = documentLines\n",
    "    if bodyStart != -1 and bodyEnd != -1:\n",
    "        result = documentLines[bodyStart+6:bodyEnd]\n",
    "    lvl0Category = lineNo1.split(\" \")[0]\n",
    "    dataFrameFromExample = pandas.DataFrame({'File Name' : os.path.basename(fileName), \n",
    "                                             'Raw Document' : result, \n",
    "                                             'LVL0 Category' : lvl0Category, \n",
    "                                            }, index=[frameIndex])\n",
    "    dataFramesList.append(dataFrameFromExample)\n",
    "    frameIndex += 1\n",
    "    \n",
    "mergedDataFrame = pandas.concat(dataFramesList)\n",
    "\n",
    "# regexp to cut non body html proved to be way too slow, implemented in reading raw file part\n",
    "def standardizeText(df, textField):\n",
    "    # remove attributes from html\n",
    "    attributesStrip = re.compile('<([a-z]+)[^>]*>', flags=re.MULTILINE|re.DOTALL)\n",
    "    scriptRemoval  = re.compile('<script[^>]*>.*?</script>', flags=re.MULTILINE|re.DOTALL)\n",
    "    commentsRemoval = re.compile('<!--.*?-->', flags=re.M|re.DOTALL)\n",
    "    xmlPreambleRemoval = re.compile('<\\?.*?\\?>', flags=re.M|re.DOTALL)\n",
    "    styleRemoval = re.compile('<style>.*?</style>', flags=re.M|re.DOTALL)\n",
    "    #onlyBodyTrimBefore = re.compile('.*<body>', flags=re.M|re.DOTALL)\n",
    "    #onlyBodyTrimAfter = re.compile('</body>.*', flags=re.M|re.DOTALL)\n",
    "\n",
    "    df[textField] = df[textField].str.lower()\n",
    "    #df[textField] = df[textField].str.replace(onlyBodyTrimBefore, '')\n",
    "    #df[textField] = df[textField].str.replace(onlyBodyTrimAfter, '')\n",
    "    df[textField] = df[textField].str.replace(attributesStrip, r\"<\\1>\")\n",
    "    df[textField] = df[textField].str.replace(scriptRemoval, '')\n",
    "    df[textField] = df[textField].str.replace(commentsRemoval, '')\n",
    "    df[textField] = df[textField].str.replace(xmlPreambleRemoval, '')\n",
    "    df[textField] = df[textField].str.replace(styleRemoval, '')\n",
    "    # get rid of markup \n",
    "    df[textField] = df[textField].str.replace(r'<[^>]+>', '')\n",
    "    df[textField] = df[textField].str.replace('</[^>]+>', '')\n",
    "    # some high frequency html entities\n",
    "    df[textField] = df[textField].str.replace(r'&oacute;', 'ó')\n",
    "    df[textField] = df[textField].str.replace(r'&nbsp;', ' ')\n",
    "    df[textField] = df[textField].str.replace(r'&raquo;', '')\n",
    "    df[textField] = df[textField].str.replace(r'&quot;', '')\n",
    "    # TODO: use beautiful soup to handle html entities\n",
    "    #df[textField] = df[textField].str.replace('<link>', '')\n",
    "    #df[textField] = df[textField].str.replace('</link>', '')\n",
    "    #df[textField] = df[textField].str.replace('<meta>', '')\n",
    "    #df[textField] = df[textField].str.replace('</meta>', '')\n",
    "    #df[textField] = df[textField].str.replace('<head>', '')\n",
    "    #df[textField] = df[textField].str.replace('</head>', '')\n",
    "\n",
    "    return df\n",
    "\n",
    "mergedDataFrame = standardizeText(mergedDataFrame, \"Raw Document\")\n"
   ]
  },
  {
   "cell_type": "code",
   "execution_count": 5,
   "metadata": {
    "collapsed": false
   },
   "outputs": [
    {
     "data": {
      "text/html": [
       "<div>\n",
       "<style>\n",
       "    .dataframe thead tr:only-child th {\n",
       "        text-align: right;\n",
       "    }\n",
       "\n",
       "    .dataframe thead th {\n",
       "        text-align: left;\n",
       "    }\n",
       "\n",
       "    .dataframe tbody tr th {\n",
       "        vertical-align: top;\n",
       "    }\n",
       "</style>\n",
       "<table border=\"1\" class=\"dataframe\">\n",
       "  <thead>\n",
       "    <tr style=\"text-align: right;\">\n",
       "      <th></th>\n",
       "      <th>File Name</th>\n",
       "      <th>LVL0 Category</th>\n",
       "      <th>Raw Document</th>\n",
       "    </tr>\n",
       "  </thead>\n",
       "  <tbody>\n",
       "    <tr>\n",
       "      <th>0</th>\n",
       "      <td>2httpengraveplblog.data</td>\n",
       "      <td>OTHER_TEXT_CONTENT</td>\n",
       "      <td>\\n\\n\\n\\n\\n\\n\\n\\n\\nblog o nieśmiertelnikach i m...</td>\n",
       "    </tr>\n",
       "    <tr>\n",
       "      <th>1</th>\n",
       "      <td>2httpgrynaprzegladarkenetgamegrepolis.data</td>\n",
       "      <td>NO_CONTENT</td>\n",
       "      <td>\\n\\n    \\n        \\n        \\n        \\n      ...</td>\n",
       "    </tr>\n",
       "    <tr>\n",
       "      <th>2</th>\n",
       "      <td>2httplpdrakensangcomlplightspellweaveranimatio...</td>\n",
       "      <td>NO_CONTENT</td>\n",
       "      <td>\\n\\n\\n    \\n        \\n        \\n        \\n    ...</td>\n",
       "    </tr>\n",
       "    <tr>\n",
       "      <th>3</th>\n",
       "      <td>2httplploacomlpmainaidaiptgoplutmsourcemediaut...</td>\n",
       "      <td>NO_CONTENT</td>\n",
       "      <td>\\n\\n\\n    \\n        \\n        \\n              ...</td>\n",
       "    </tr>\n",
       "    <tr>\n",
       "      <th>4</th>\n",
       "      <td>2httppldarkorbitbigpointcomaidaiputmsourceaffi...</td>\n",
       "      <td>NO_CONTENT</td>\n",
       "      <td>\\n    \\n    \\n    uruchom javascript w swojej ...</td>\n",
       "    </tr>\n",
       "  </tbody>\n",
       "</table>\n",
       "</div>"
      ],
      "text/plain": [
       "<div>\n",
       "<style>\n",
       "    .dataframe thead tr:only-child th {\n",
       "        text-align: right;\n",
       "    }\n",
       "\n",
       "    .dataframe thead th {\n",
       "        text-align: left;\n",
       "    }\n",
       "\n",
       "    .dataframe tbody tr th {\n",
       "        vertical-align: top;\n",
       "    }\n",
       "</style>\n",
       "<table border=\"1\" class=\"dataframe\">\n",
       "  <thead>\n",
       "    <tr style=\"text-align: right;\">\n",
       "      <th></th>\n",
       "      <th>File Name</th>\n",
       "      <th>LVL0 Category</th>\n",
       "      <th>Raw Document</th>\n",
       "    </tr>\n",
       "  </thead>\n",
       "  <tbody>\n",
       "    <tr>\n",
       "      <th>0</th>\n",
       "      <td>2httpengraveplblog.data</td>\n",
       "      <td>OTHER_TEXT_CONTENT</td>\n",
       "      <td>\\n\\n\\n\\n\\n\\n\\n\\n\\nblog o nieśmiertelnikach i m...</td>\n",
       "    </tr>\n",
       "    <tr>\n",
       "      <th>1</th>\n",
       "      <td>2httpgrynaprzegladarkenetgamegrepolis.data</td>\n",
       "      <td>NO_CONTENT</td>\n",
       "      <td>\\n\\n    \\n        \\n        \\n        \\n      ...</td>\n",
       "    </tr>\n",
       "    <tr>\n",
       "      <th>2</th>\n",
       "      <td>2httplpdrakensangcomlplightspellweaveranimatio...</td>\n",
       "      <td>NO_CONTENT</td>\n",
       "      <td>\\n\\n\\n    \\n        \\n        \\n        \\n    ...</td>\n",
       "    </tr>\n",
       "    <tr>\n",
       "      <th>3</th>\n",
       "      <td>2httplploacomlpmainaidaiptgoplutmsourcemediaut...</td>\n",
       "      <td>NO_CONTENT</td>\n",
       "      <td>\\n\\n\\n    \\n        \\n        \\n              ...</td>\n",
       "    </tr>\n",
       "    <tr>\n",
       "      <th>4</th>\n",
       "      <td>2httppldarkorbitbigpointcomaidaiputmsourceaffi...</td>\n",
       "      <td>NO_CONTENT</td>\n",
       "      <td>\\n    \\n    \\n    uruchom javascript w swojej ...</td>\n",
       "    </tr>\n",
       "  </tbody>\n",
       "</table>\n",
       "</div>"
      ]
     },
     "execution_count": 5,
     "metadata": {},
     "output_type": "execute_result"
    }
   ],
   "source": [
    "mergedDataFrame.head()"
   ]
  },
  {
   "cell_type": "markdown",
   "metadata": {},
   "source": [
    "### Assiging numerical values to output categories"
   ]
  },
  {
   "cell_type": "code",
   "execution_count": 6,
   "metadata": {},
   "outputs": [
    {
     "data": {
      "text/plain": [
       "0    2\n1    4\n2    4\n3    4\n4    4\n5    0\n6    4\n7    4\n8    3\n9    3\nName: Class Label, dtype: int64"
      ]
     },
     "execution_count": 6,
     "metadata": {},
     "output_type": "execute_result"
    }
   ],
   "source": [
    "mergedDataFrame['Class Label'] = numpy.where(mergedDataFrame['LVL0 Category'] == 'HIGH_QUALITY_CONTENT', 0, \n",
    "                                    numpy.where(mergedDataFrame['LVL0 Category'] == 'FORUM', 1, \n",
    "                                      numpy.where(mergedDataFrame['LVL0 Category'] == 'OTHER_TEXT_CONTENT', 2, \n",
    "                                        numpy.where(mergedDataFrame['LVL0 Category'] == 'OTHER_MULTIMEDIA_CONTENT', 3, \n",
    "                                            numpy.where(mergedDataFrame['LVL0 Category'] == 'NO_CONTENT', 4, 5\n",
    "                                              #numpy.where(mergedDataFrame['LVL0 Category'] == 'UNKNOWN', 6, 0 \n",
    "                                            )))))\n",
    "\n",
    "mergedDataFrame['Class Label'][:10]"
   ]
  },
  {
   "cell_type": "code",
   "execution_count": 7,
   "metadata": {},
   "outputs": [
    {
     "data": {
      "text/html": [
       "<div>\n",
       "<style>\n",
       "    .dataframe thead tr:only-child th {\n",
       "        text-align: right;\n",
       "    }\n",
       "\n",
       "    .dataframe thead th {\n",
       "        text-align: left;\n",
       "    }\n",
       "\n",
       "    .dataframe tbody tr th {\n",
       "        vertical-align: top;\n",
       "    }\n",
       "</style>\n",
       "<table border=\"1\" class=\"dataframe\">\n",
       "  <thead>\n",
       "    <tr style=\"text-align: right;\">\n",
       "      <th></th>\n",
       "      <th>Class Label</th>\n",
       "    </tr>\n",
       "  </thead>\n",
       "  <tbody>\n",
       "    <tr>\n",
       "      <th>count</th>\n",
       "      <td>710.000000</td>\n",
       "    </tr>\n",
       "    <tr>\n",
       "      <th>mean</th>\n",
       "      <td>1.980282</td>\n",
       "    </tr>\n",
       "    <tr>\n",
       "      <th>std</th>\n",
       "      <td>1.460203</td>\n",
       "    </tr>\n",
       "    <tr>\n",
       "      <th>min</th>\n",
       "      <td>0.000000</td>\n",
       "    </tr>\n",
       "    <tr>\n",
       "      <th>25%</th>\n",
       "      <td>0.000000</td>\n",
       "    </tr>\n",
       "    <tr>\n",
       "      <th>50%</th>\n",
       "      <td>2.000000</td>\n",
       "    </tr>\n",
       "    <tr>\n",
       "      <th>75%</th>\n",
       "      <td>3.000000</td>\n",
       "    </tr>\n",
       "    <tr>\n",
       "      <th>max</th>\n",
       "      <td>4.000000</td>\n",
       "    </tr>\n",
       "  </tbody>\n",
       "</table>\n",
       "</div>"
      ],
      "text/plain": [
       "<div>\n",
       "<style>\n",
       "    .dataframe thead tr:only-child th {\n",
       "        text-align: right;\n",
       "    }\n",
       "\n",
       "    .dataframe thead th {\n",
       "        text-align: left;\n",
       "    }\n",
       "\n",
       "    .dataframe tbody tr th {\n",
       "        vertical-align: top;\n",
       "    }\n",
       "</style>\n",
       "<table border=\"1\" class=\"dataframe\">\n",
       "  <thead>\n",
       "    <tr style=\"text-align: right;\">\n",
       "      <th></th>\n",
       "      <th>Class Label</th>\n",
       "    </tr>\n",
       "  </thead>\n",
       "  <tbody>\n",
       "    <tr>\n",
       "      <th>count</th>\n",
       "      <td>710.000000</td>\n",
       "    </tr>\n",
       "    <tr>\n",
       "      <th>mean</th>\n",
       "      <td>1.980282</td>\n",
       "    </tr>\n",
       "    <tr>\n",
       "      <th>std</th>\n",
       "      <td>1.460203</td>\n",
       "    </tr>\n",
       "    <tr>\n",
       "      <th>min</th>\n",
       "      <td>0.000000</td>\n",
       "    </tr>\n",
       "    <tr>\n",
       "      <th>25%</th>\n",
       "      <td>0.000000</td>\n",
       "    </tr>\n",
       "    <tr>\n",
       "      <th>50%</th>\n",
       "      <td>2.000000</td>\n",
       "    </tr>\n",
       "    <tr>\n",
       "      <th>75%</th>\n",
       "      <td>3.000000</td>\n",
       "    </tr>\n",
       "    <tr>\n",
       "      <th>max</th>\n",
       "      <td>4.000000</td>\n",
       "    </tr>\n",
       "  </tbody>\n",
       "</table>\n",
       "</div>"
      ]
     },
     "execution_count": 7,
     "metadata": {},
     "output_type": "execute_result"
    }
   ],
   "source": [
    "mergedDataFrame.describe()"
   ]
  },
  {
   "cell_type": "code",
   "execution_count": 8,
   "metadata": {
    "collapsed": true
   },
   "outputs": [
    {
     "data": {
      "text/html": [
       "<div>\n",
       "<style>\n",
       "    .dataframe thead tr:only-child th {\n",
       "        text-align: right;\n",
       "    }\n",
       "\n",
       "    .dataframe thead th {\n",
       "        text-align: left;\n",
       "    }\n",
       "\n",
       "    .dataframe tbody tr th {\n",
       "        vertical-align: top;\n",
       "    }\n",
       "</style>\n",
       "<table border=\"1\" class=\"dataframe\">\n",
       "  <thead>\n",
       "    <tr style=\"text-align: right;\">\n",
       "      <th></th>\n",
       "      <th>File Name</th>\n",
       "      <th>LVL0 Category</th>\n",
       "      <th>Raw Document</th>\n",
       "    </tr>\n",
       "    <tr>\n",
       "      <th>Class Label</th>\n",
       "      <th></th>\n",
       "      <th></th>\n",
       "      <th></th>\n",
       "    </tr>\n",
       "  </thead>\n",
       "  <tbody>\n",
       "    <tr>\n",
       "      <th>0</th>\n",
       "      <td>194</td>\n",
       "      <td>194</td>\n",
       "      <td>194</td>\n",
       "    </tr>\n",
       "    <tr>\n",
       "      <th>1</th>\n",
       "      <td>64</td>\n",
       "      <td>64</td>\n",
       "      <td>64</td>\n",
       "    </tr>\n",
       "    <tr>\n",
       "      <th>2</th>\n",
       "      <td>131</td>\n",
       "      <td>131</td>\n",
       "      <td>131</td>\n",
       "    </tr>\n",
       "    <tr>\n",
       "      <th>3</th>\n",
       "      <td>204</td>\n",
       "      <td>204</td>\n",
       "      <td>204</td>\n",
       "    </tr>\n",
       "    <tr>\n",
       "      <th>4</th>\n",
       "      <td>117</td>\n",
       "      <td>117</td>\n",
       "      <td>117</td>\n",
       "    </tr>\n",
       "  </tbody>\n",
       "</table>\n",
       "</div>"
      ],
      "text/plain": [
       "<div>\n",
       "<style>\n",
       "    .dataframe thead tr:only-child th {\n",
       "        text-align: right;\n",
       "    }\n",
       "\n",
       "    .dataframe thead th {\n",
       "        text-align: left;\n",
       "    }\n",
       "\n",
       "    .dataframe tbody tr th {\n",
       "        vertical-align: top;\n",
       "    }\n",
       "</style>\n",
       "<table border=\"1\" class=\"dataframe\">\n",
       "  <thead>\n",
       "    <tr style=\"text-align: right;\">\n",
       "      <th></th>\n",
       "      <th>File Name</th>\n",
       "      <th>LVL0 Category</th>\n",
       "      <th>Raw Document</th>\n",
       "    </tr>\n",
       "    <tr>\n",
       "      <th>Class Label</th>\n",
       "      <th></th>\n",
       "      <th></th>\n",
       "      <th></th>\n",
       "    </tr>\n",
       "  </thead>\n",
       "  <tbody>\n",
       "    <tr>\n",
       "      <th>0</th>\n",
       "      <td>194</td>\n",
       "      <td>194</td>\n",
       "      <td>194</td>\n",
       "    </tr>\n",
       "    <tr>\n",
       "      <th>1</th>\n",
       "      <td>64</td>\n",
       "      <td>64</td>\n",
       "      <td>64</td>\n",
       "    </tr>\n",
       "    <tr>\n",
       "      <th>2</th>\n",
       "      <td>131</td>\n",
       "      <td>131</td>\n",
       "      <td>131</td>\n",
       "    </tr>\n",
       "    <tr>\n",
       "      <th>3</th>\n",
       "      <td>204</td>\n",
       "      <td>204</td>\n",
       "      <td>204</td>\n",
       "    </tr>\n",
       "    <tr>\n",
       "      <th>4</th>\n",
       "      <td>117</td>\n",
       "      <td>117</td>\n",
       "      <td>117</td>\n",
       "    </tr>\n",
       "  </tbody>\n",
       "</table>\n",
       "</div>"
      ]
     },
     "execution_count": 8,
     "metadata": {},
     "output_type": "execute_result"
    }
   ],
   "source": [
    "mergedDataFrame.groupby('Class Label').count()"
   ]
  },
  {
   "cell_type": "code",
   "execution_count": 9,
   "metadata": {},
   "outputs": [],
   "source": [
    "mergedDataFrame.to_csv('/Users/bumblebee/PycharmProjects/ClassifierForWebScraper/cleaned-train-dataset.csv')"
   ]
  },
  {
   "cell_type": "code",
   "execution_count": 10,
   "metadata": {},
   "outputs": [
    {
     "name": "stdout",
     "output_type": "stream",
     "text": [
      "<script>\n fdaf fdsaf \n fdas  \n </script>\n<script></script>\n"
     ]
    }
   ],
   "source": [
    "# testing multiline and dot matches newline regexp\n",
    "toReplace = \"<script>\\n fdaf fdsaf \\n fdas  \\n </script>\"\n",
    "print(toReplace)\n",
    "scriptRemoval  = re.compile('<script[^>]*>.*?</script>', flags=re.MULTILINE|re.DOTALL)\n",
    "replaced  = re.sub(scriptRemoval, '<script></script>', toReplace)\n",
    "print(replaced)"
   ]
  },
  {
   "cell_type": "markdown",
   "metadata": {},
   "source": [
    "### Split data 75% for training and 25% for testing"
   ]
  },
  {
   "cell_type": "code",
   "execution_count": 11,
   "metadata": {},
   "outputs": [],
   "source": [
    "from sklearn.model_selection import train_test_split\n",
    "\n",
    "X_train, X_test, y_train, y_test = train_test_split(mergedDataFrame['Raw Document'], \n",
    "                                                    mergedDataFrame['Class Label'], \n",
    "                                                    random_state=0)"
   ]
  },
  {
   "cell_type": "code",
   "execution_count": 12,
   "metadata": {
    "collapsed": false
   },
   "outputs": [
    {
     "name": "stdout",
     "output_type": "stream",
     "text": [
      "X_train first entry:\n\n \n\n    \n        dzieci kąpały się w bałtyku mimo zakazów. dwie dziewczynki zaginęły - fakty ekstra tvn\n        \n                    \n        \n        \n\n            \n    \n    \n        \n        \n\n    \n  \n\n\nX_train shape:  (532,)\n"
     ]
    }
   ],
   "source": [
    "print('X_train first entry:\\n\\n', X_train.iloc[0][0:200])\n",
    "print('\\n\\nX_train shape: ', X_train.shape)"
   ]
  },
  {
   "cell_type": "code",
   "execution_count": 13,
   "metadata": {},
   "outputs": [
    {
     "data": {
      "text/plain": [
       "CountVectorizer(analyzer='word', binary=False, decode_error='strict',\n        dtype=<class 'numpy.int64'>, encoding='utf-8', input='content',\n        lowercase=True, max_df=1.0, max_features=None, min_df=1,\n        ngram_range=(1, 1), preprocessor=None, stop_words=None,\n        strip_accents=None, token_pattern='(?u)\\\\b\\\\w\\\\w+\\\\b',\n        tokenizer=None, vocabulary=None)"
      ]
     },
     "execution_count": 13,
     "metadata": {},
     "output_type": "execute_result"
    }
   ],
   "source": [
    "from sklearn.feature_extraction.text import CountVectorizer\n",
    "\n",
    "vect = CountVectorizer().fit(X_train)\n",
    "\n",
    "vect\n"
   ]
  },
  {
   "cell_type": "code",
   "execution_count": 14,
   "metadata": {},
   "outputs": [
    {
     "data": {
      "text/plain": [
       "68980"
      ]
     },
     "execution_count": 14,
     "metadata": {},
     "output_type": "execute_result"
    }
   ],
   "source": [
    "len(vect.get_feature_names())"
   ]
  },
  {
   "cell_type": "code",
   "execution_count": 15,
   "metadata": {},
   "outputs": [
    {
     "data": {
      "text/plain": [
       "['00',\n '16xtradebdm',\n '27jaki',\n '418',\n '750d',\n 'afcanon',\n 'antenę',\n 'badaczy',\n 'biegambolubię',\n 'brodzikikabinybrodzikiwanny',\n 'ccenergy',\n 'citeulike',\n 'cznej',\n 'dhadecw_klis09__6',\n 'dotyczyły',\n 'dziklispiżmakjenot',\n 'epopeją',\n 'finansowym',\n 'gant',\n 'gral',\n 'heftig',\n 'indusów',\n 'janoszka',\n 'kappa',\n 'knights',\n 'korkach',\n 'kucharze',\n 'lepszą',\n 'lęk',\n 'małogoszcz',\n 'miodu',\n 'muruje',\n 'nanovo',\n 'niedźwiedzia',\n 'nowina',\n 'oddziaływanie',\n 'określa',\n 'ostrzega',\n 'password',\n 'pisklę',\n 'podkrzywdzie',\n 'pomieścić',\n 'powiatowa',\n 'primamoda',\n 'przejmujące',\n 'przyniosły',\n 'quench',\n 'reprezentatywnym',\n 'rozproszone',\n 'samorząd',\n 'siedzące',\n 'sointeractive',\n 'spływ',\n 'stłuczki',\n 'sznurki',\n 'teledysk',\n 'trendingtrending',\n 'uciąć',\n 'urzędowych',\n 'wachowicz',\n 'wiekiem',\n 'wpłynąć',\n 'wyjechalam',\n 'wytrzyma',\n 'zac',\n 'zapewniam',\n 'zbrodnia',\n 'znajoma',\n 'łazienkowy']"
      ]
     },
     "execution_count": 15,
     "metadata": {},
     "output_type": "execute_result"
    }
   ],
   "source": [
    "vect.get_feature_names()[::1000]"
   ]
  },
  {
   "cell_type": "code",
   "execution_count": 16,
   "metadata": {},
   "outputs": [
    {
     "data": {
      "text/plain": [
       "<532x68980 sparse matrix of type '<class 'numpy.int64'>'\n\twith 233550 stored elements in Compressed Sparse Row format>"
      ]
     },
     "execution_count": 16,
     "metadata": {},
     "output_type": "execute_result"
    }
   ],
   "source": [
    "X_train_vectorized = vect.transform(X_train)\n",
    "\n",
    "X_train_vectorized"
   ]
  },
  {
   "cell_type": "code",
   "execution_count": 17,
   "metadata": {},
   "outputs": [
    {
     "data": {
      "text/plain": [
       "OneVsRestClassifier(estimator=LogisticRegression(C=1.0, class_weight=None, dual=False, fit_intercept=True,\n          intercept_scaling=1, max_iter=100, multi_class='ovr', n_jobs=1,\n          penalty='l2', random_state=None, solver='liblinear', tol=0.0001,\n          verbose=0, warm_start=False),\n          n_jobs=1)"
      ]
     },
     "execution_count": 17,
     "metadata": {},
     "output_type": "execute_result"
    }
   ],
   "source": [
    "from sklearn.linear_model import LogisticRegression\n",
    "from sklearn.multiclass import OneVsRestClassifier\n",
    "\n",
    "classifier = OneVsRestClassifier(LogisticRegression())\n",
    "classifier.fit(X_train_vectorized, y_train)"
   ]
  },
  {
   "cell_type": "markdown",
   "metadata": {},
   "source": [
    "### Accuracy = number of correct predictions / Total number of predictions"
   ]
  },
  {
   "cell_type": "code",
   "execution_count": 18,
   "metadata": {
    "collapsed": false
   },
   "outputs": [
    {
     "name": "stdout",
     "output_type": "stream",
     "text": [
      "accuracy: 0.741573033708\n"
     ]
    }
   ],
   "source": [
    "from sklearn.metrics import accuracy_score\n",
    "\n",
    "predictions = classifier.predict(vect.transform(X_test))\n",
    "\n",
    "accuracy = accuracy_score(predictions, y_test)\n",
    "\n",
    "print('accuracy: %s' % accuracy)"
   ]
  },
  {
   "cell_type": "markdown",
   "metadata": {},
   "source": [
    "### Need another metrics also, ie. precision (proportion of positive identifications that were correct - value of 1.0 for model that produces no false positives) and recall (proportion of actual positives that was identified correctly - model with no false negatives gives rate of 1.0) "
   ]
  },
  {
   "cell_type": "code",
   "execution_count": 19,
   "metadata": {},
   "outputs": [
    {
     "name": "stdout",
     "output_type": "stream",
     "text": [
      "precision: 0.744693509887, recall 0.741573033708\n"
     ]
    }
   ],
   "source": [
    "from sklearn.metrics import precision_score, recall_score\n",
    "\n",
    "precision = precision_score(predictions, y_test, pos_label=None, average='weighted')             \n",
    "\n",
    "recall = recall_score(predictions, y_test, pos_label=None, average='weighted')\n",
    "\n",
    "print('precision: %s, recall %s' % (precision, recall))"
   ]
  },
  {
   "cell_type": "code",
   "execution_count": 20,
   "metadata": {},
   "outputs": [
    {
     "data": {
      "text/plain": [
       "8881"
      ]
     },
     "execution_count": 20,
     "metadata": {},
     "output_type": "execute_result"
    }
   ],
   "source": [
    "from sklearn.feature_extraction.text import TfidfVectorizer\n",
    "\n",
    "vect = TfidfVectorizer(min_df=5).fit(X_train)\n",
    "len(vect.get_feature_names())"
   ]
  },
  {
   "cell_type": "code",
   "execution_count": 21,
   "metadata": {},
   "outputs": [
    {
     "name": "stdout",
     "output_type": "stream",
     "text": [
      "accuracy: 0.634831460674\nprecision: 0.736868051343, recall 0.634831460674\n"
     ]
    }
   ],
   "source": [
    "X_train_vectorized = vect.transform(X_train)\n",
    "classifier = OneVsRestClassifier(LogisticRegression())\n",
    "classifier.fit(X_train_vectorized, y_train)\n",
    "\n",
    "predictions = classifier.predict(vect.transform(X_test))\n",
    "\n",
    "accuracy = accuracy_score(predictions, y_test)\n",
    "\n",
    "print('accuracy: %s' % accuracy)\n",
    "\n",
    "precision = precision_score(predictions, y_test, pos_label=None, average='weighted')             \n",
    "\n",
    "recall = recall_score(predictions, y_test, pos_label=None, average='weighted')\n",
    "\n",
    "print('precision: %s, recall %s' % (precision, recall))"
   ]
  },
  {
   "cell_type": "code",
   "execution_count": 22,
   "metadata": {},
   "outputs": [
    {
     "name": "stdout",
     "output_type": "stream",
     "text": [
      "Smallest tfidf:\n['374' 'kochamy' 'porażkę' 'wta' 'letnich' 'ciekawie' 'poprzednich'\n 'opiera' 'skończyć' 'niektórym']\n\nLargest tfidf: \n['and' 'world' 'shy' 'amp' 'plotki' 'nf' 'wordpress' 'św' 'cb' 'images']\n"
     ]
    }
   ],
   "source": [
    "feature_names = numpy.array(vect.get_feature_names())\n",
    "\n",
    "sorted_tfidf_index = X_train_vectorized.max(0).toarray()[0].argsort()\n",
    "\n",
    "print('Smallest tfidf:\\n{}\\n'.format(feature_names[sorted_tfidf_index[:10]]))\n",
    "print('Largest tfidf: \\n{}'.format(feature_names[sorted_tfidf_index[:-11:-1]]))"
   ]
  },
  {
   "cell_type": "markdown",
   "metadata": {},
   "source": [
    "### TODO: a lot of stopwords there, need to get rid of them"
   ]
  },
  {
   "cell_type": "code",
   "execution_count": 23,
   "metadata": {},
   "outputs": [
    {
     "name": "stdout",
     "output_type": "stream",
     "text": [
      "Smallest Coefs:\n['amp' '00' 'trwania' 'akcesoria' 'hasło' 'komentarzy' 'wyświetleń'\n 'zaloguj' 'forum' 'zł']\n\nLargest Coefs: \n['na' 'że' 'nie' 'rio' 'interia' 'to' 'pikio' 'si' 'komentarz' 'godz']\n"
     ]
    }
   ],
   "source": [
    "sorted_coef_index = classifier.coef_[0].argsort()\n",
    "\n",
    "print('Smallest Coefs:\\n{}\\n'.format(feature_names[sorted_coef_index[:10]]))\n",
    "print('Largest Coefs: \\n{}'.format(feature_names[sorted_coef_index[:-11:-1]]))"
   ]
  },
  {
   "cell_type": "markdown",
   "metadata": {},
   "source": [
    "### TODO: Again, need to get rid of those na, że, to "
   ]
  },
  {
   "cell_type": "markdown",
   "metadata": {},
   "source": [
    "## Create bigram with minium count of 5 occurances"
   ]
  },
  {
   "cell_type": "code",
   "execution_count": 24,
   "metadata": {},
   "outputs": [
    {
     "data": {
      "text/plain": [
       "15245"
      ]
     },
     "execution_count": 24,
     "metadata": {},
     "output_type": "execute_result"
    }
   ],
   "source": [
    "vect = CountVectorizer(min_df=5, ngram_range=(1,2)).fit(X_train)\n",
    "\n",
    "X_train_vectorized = vect.transform(X_train)\n",
    "\n",
    "len(vect.get_feature_names())"
   ]
  },
  {
   "cell_type": "code",
   "execution_count": 25,
   "metadata": {},
   "outputs": [
    {
     "name": "stdout",
     "output_type": "stream",
     "text": [
      "accuracy: 0.741573033708, precision: 0.741567134839, recall 0.741573033708\n"
     ]
    }
   ],
   "source": [
    "classifier = OneVsRestClassifier(LogisticRegression())\n",
    "classifier.fit(X_train_vectorized, y_train)\n",
    "\n",
    "predictions = classifier.predict(vect.transform(X_test))\n",
    "\n",
    "accuracy = accuracy_score(predictions, y_test)\n",
    "precision = precision_score(predictions, y_test, pos_label=None, average='weighted')             \n",
    "recall = recall_score(predictions, y_test, pos_label=None, average='weighted')\n",
    "\n",
    "print('accuracy: %s, precision: %s, recall %s' % (accuracy, precision, recall))"
   ]
  },
  {
   "cell_type": "code",
   "execution_count": 26,
   "metadata": {},
   "outputs": [],
   "source": [
    "import numpy as np\n",
    "import itertools\n",
    "import matplotlib.pyplot as plt\n",
    "\n",
    "\n",
    "def plot_confusion_matrix(cm, classes,\n",
    "                          normalize=False,\n",
    "                          title='Confusion matrix',\n",
    "                          cmap=plt.cm.winter):\n",
    "    if normalize:\n",
    "        cm = cm.astype('float') / cm.sum(axis=1)[:, np.newaxis]\n",
    "    plt.imshow(cm, interpolation='nearest', cmap=cmap)\n",
    "    plt.title(title, fontsize=30)\n",
    "    plt.colorbar()\n",
    "    tick_marks = np.arange(len(classes))\n",
    "    plt.xticks(tick_marks, classes, fontsize=20)\n",
    "    plt.yticks(tick_marks, classes, fontsize=20)\n",
    "    \n",
    "    fmt = '.2f' if normalize else 'd'\n",
    "    thresh = cm.max() / 2.\n",
    "\n",
    "    for i, j in itertools.product(range(cm.shape[0]), range(cm.shape[1])):\n",
    "        plt.text(j, i, format(cm[i, j], fmt), horizontalalignment=\"center\", \n",
    "                 color=\"white\" if cm[i, j] < thresh else \"black\", fontsize=40)\n",
    "    \n",
    "    plt.tight_layout()\n",
    "    plt.ylabel('True label', fontsize=30)\n",
    "    plt.xlabel('Predicted label', fontsize=30)\n",
    "\n",
    "    return plt\n"
   ]
  },
  {
   "cell_type": "code",
   "execution_count": 27,
   "metadata": {
    "collapsed": false
   },
   "outputs": [
    {
     "data": {
      "image/png": "[encoded data removed]",
      "text/plain": [
       "<matplotlib.figure.Figure at 0x136a39630>"
      ]
     },
     "metadata": {},
     "output_type": "display_data"
    },
    {
     "name": "stdout",
     "output_type": "stream",
     "text": [
      "[[42  0  5  3  2]\n [ 0 18  2  0  1]\n [ 4  1 14  6  0]\n [ 1  0  2 33 10]\n [ 4  1  1  3 25]]\n"
     ]
    }
   ],
   "source": [
    "from sklearn.metrics import confusion_matrix\n",
    "cm = confusion_matrix(y_test, predictions)\n",
    "fig = plt.figure(figsize=(10, 10))\n",
    "plot = plot_confusion_matrix(cm, classes=['HQ', 'F', 'OTC', 'OMC', 'NC', 'U'], \n",
    "                             normalize=False, title='Confusion matrix')\n",
    "plt.show()\n",
    "print(cm)\n"
   ]
  },
  {
   "cell_type": "markdown",
   "metadata": {},
   "source": [
    "### TODO: problem with OTHER_MULTIMEDIA_CONTENT classified as NO_CONTENT (too much stripping?)"
   ]
  },
  {
   "cell_type": "code",
   "execution_count": 28,
   "metadata": {},
   "outputs": [],
   "source": [
    "def get_most_important_features(vectorizer, model, n=5):\n",
    "    index_to_word = {v:k for k,v in vectorizer.vocabulary_.items()}\n",
    "    \n",
    "    # loop for each class\n",
    "    classes ={}\n",
    "    for class_index in range(model.coef_.shape[0]):\n",
    "        word_importances = [(el, index_to_word[i]) for i,el in enumerate(model.coef_[class_index])]\n",
    "        sorted_coeff = sorted(word_importances, key = lambda x : x[0], reverse=True)\n",
    "        tops = sorted(sorted_coeff[:n], key = lambda x : x[0])\n",
    "        bottom = sorted_coeff[-n:]\n",
    "        classes[class_index] = {\n",
    "            'tops':tops,\n",
    "            'bottom':bottom\n",
    "        }\n",
    "    return classes\n"
   ]
  },
  {
   "cell_type": "markdown",
   "metadata": {},
   "source": [
    "### Print 10 most important features and 10 most irrelevant ones for each category"
   ]
  },
  {
   "cell_type": "code",
   "execution_count": 29,
   "metadata": {
    "collapsed": true
   },
   "outputs": [
    {
     "data": {
      "text/plain": [
       "{0: {'bottom': [(-0.30724583378223003, 'password'),\n   (-0.31055772505396889, 'logowanie'),\n   (-0.31244007920988803, 'logowania'),\n   (-0.31765543660954992, 'back'),\n   (-0.33842436625323541, 'hellip'),\n   (-0.35766861009519196, 'world'),\n   (-0.38683332558832195, 'strona'),\n   (-0.39011829682941251, 'hasło'),\n   (-0.44760273117799942, 'and'),\n   (-0.55008767976067174, 'wordpress')],\n  'tops': [(0.21449906860197085, 'ciała'),\n   (0.21614796645019674, 'konferencji'),\n   (0.21967729293373547, 'najlepszych'),\n   (0.2271895998744923, 'prezent'),\n   (0.24854330779741332, 'prywatności'),\n   (0.24993792849545748, 'polityka prywatności'),\n   (0.25353729857064689, 'wyłącz'),\n   (0.25723935455357866, 'panel'),\n   (0.27632450701435674, 'że'),\n   (0.34962368239862907, 'użytkownika')]},\n 1: {'bottom': [(-0.18423021196466396, 'polityka prywatności'),\n   (-0.1870424109737672, 'błąd'),\n   (-0.19715904896161812, 'hasło'),\n   (-0.20158484267223342, 'nowe'),\n   (-0.2159484312786519, 'panel'),\n   (-0.22111526218128147, 'użytkownika'),\n   (-0.24808109404615461, 'lub'),\n   (-0.25488546754719421, 'wordpress'),\n   (-0.26892284384831272, 'więcej'),\n   (-0.30301546565225873, 'and')],\n  'tops': [(0.18035538877486337, 'ale'),\n   (0.19460979948809287, 'pl forum'),\n   (0.20253207601144968, 'miasta'),\n   (0.22544222396085611, 'anime'),\n   (0.32164236297173582, 'giełda'),\n   (0.32628698741818912, 'pomagają'),\n   (0.42033587805483574, 'wątek'),\n   (0.47744641554147049, 'cb'),\n   (0.70467328583593092, 'forum'),\n   (0.73586697248121424, 'world')]},\n 2: {'bottom': [(-0.19808109896880532, 'galeria'),\n   (-0.20296810808402921, 'fotograf'),\n   (-0.21554730214259074, 'strony'),\n   (-0.2203941392123383, 'kontakt'),\n   (-0.22458342676806253, 'hasło'),\n   (-0.24171894461493901, 'logowanie'),\n   (-0.24922851636938717, 'forum'),\n   (-0.28016558349773935, 'zobacz'),\n   (-0.28454138244234284, 'strona'),\n   (-0.31607265621088632, 'and')],\n  'tops': [(0.22789433388793742, 'komentarzy'),\n   (0.2326304576995521, 'czytaj'),\n   (0.2353748693176009, 'naszą'),\n   (0.24782019393333579, 'lt'),\n   (0.26345113538851955, 'sztuki'),\n   (0.28152416804020369, 'przepis'),\n   (0.28424361399723602, '50'),\n   (0.28850440531747412, 'gadżety'),\n   (0.32484370073237717, 'prezenty'),\n   (0.68197242282182202, 'body')]},\n 3: {'bottom': [(-0.19036243341940948, 'przez'),\n   (-0.19607547204216955, 'roku'),\n   (-0.22041040525608302, 'logowania'),\n   (-0.23355892964804978, 'cb'),\n   (-0.24021850415967316, '50'),\n   (-0.2408585602348926, 'www'),\n   (-0.24514742965686812, 'password'),\n   (-0.25202026957877383, 'biuro'),\n   (-0.32913348783649665, 'wordpress'),\n   (-0.34396680217326647, 'forum')],\n  'tops': [(0.29397327364113468, 'zdjęcia'),\n   (0.30070198079003829, 'by'),\n   (0.31627022630864282, 'zobacz'),\n   (0.33480966508116083, 'film'),\n   (0.34471920171510961, 'zdjęć'),\n   (0.38320340714114931, 'top'),\n   (0.40892163008546956, 'hellip'),\n   (0.46626356475493269, 'back'),\n   (0.55599368685500583, 'navigation'),\n   (0.57986452485335616, 'galeria')]},\n 4: {'bottom': [(-0.24595121383930468, 'polityka prywatności'),\n   (-0.24863383636533501, 'serwisu'),\n   (-0.25105510090780275, '11'),\n   (-0.26415003495548378, 'galeria'),\n   (-0.27269367127073696, 'cb'),\n   (-0.27436470828072068, 'body'),\n   (-0.31548923556584835, 'forum'),\n   (-0.33204239982874489, 'na'),\n   (-0.35456905833042318, 'jak'),\n   (-0.37214357947161503, 'the')],\n  'tops': [(0.37723288041273678, 'formularz'),\n   (0.40030573199760361, 'logowanie'),\n   (0.40386273751428009, 'hasło'),\n   (0.41046964333534214, 'biuro'),\n   (0.41898548917001038, 'password'),\n   (0.43834718946266421, 'promocyjna'),\n   (0.4717888912966543, 'logowania'),\n   (0.47590162156638766, 'gazetka'),\n   (0.64432907549319907, 'and'),\n   (0.81032749382646663, 'wordpress')]}}"
      ]
     },
     "execution_count": 29,
     "metadata": {},
     "output_type": "execute_result"
    }
   ],
   "source": [
    "importance = get_most_important_features(vect, classifier, 10)\n",
    "importance"
   ]
  }
 ],
 "metadata": {
  "kernelspec": {
   "display_name": "Python 2",
   "language": "python",
   "name": "python2"
  },
  "language_info": {
   "codemirror_mode": {
    "name": "ipython",
    "version": 2
   },
   "file_extension": ".py",
   "mimetype": "text/x-python",
   "name": "python",
   "nbconvert_exporter": "python",
   "pygments_lexer": "ipython2",
   "version": "2.7.6"
  }
 },
 "nbformat": 4,
 "nbformat_minor": 0
}
